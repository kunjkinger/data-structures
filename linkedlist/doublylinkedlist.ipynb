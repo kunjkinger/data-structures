{
 "cells": [
  {
   "cell_type": "code",
   "execution_count": 3,
   "id": "3b7108ed",
   "metadata": {},
   "outputs": [],
   "source": [
    "class Node(object):\n",
    "    \n",
    "    def __init__(self,value):\n",
    "        self.previousnode = None\n",
    "        self.value = value\n",
    "        self.nextnode = None"
   ]
  },
  {
   "cell_type": "code",
   "execution_count": 4,
   "id": "f946c708",
   "metadata": {},
   "outputs": [],
   "source": [
    "a = Node(1)\n",
    "b = Node(2)\n",
    "c = Node(3)"
   ]
  },
  {
   "cell_type": "code",
   "execution_count": 5,
   "id": "f42ac898",
   "metadata": {},
   "outputs": [],
   "source": [
    "a.nextnode = b\n",
    "b.nextnode = c"
   ]
  },
  {
   "cell_type": "code",
   "execution_count": 6,
   "id": "8e750fa9",
   "metadata": {},
   "outputs": [],
   "source": [
    "b.previousnode = a\n",
    "c.previousnode = b"
   ]
  },
  {
   "cell_type": "code",
   "execution_count": 7,
   "id": "21a0122f",
   "metadata": {},
   "outputs": [
    {
     "data": {
      "text/plain": [
       "2"
      ]
     },
     "execution_count": 7,
     "metadata": {},
     "output_type": "execute_result"
    }
   ],
   "source": [
    "c.previousnode.value"
   ]
  },
  {
   "cell_type": "code",
   "execution_count": null,
   "id": "9f311b09",
   "metadata": {},
   "outputs": [],
   "source": []
  }
 ],
 "metadata": {
  "kernelspec": {
   "display_name": "Python 3",
   "language": "python",
   "name": "python3"
  },
  "language_info": {
   "codemirror_mode": {
    "name": "ipython",
    "version": 3
   },
   "file_extension": ".py",
   "mimetype": "text/x-python",
   "name": "python",
   "nbconvert_exporter": "python",
   "pygments_lexer": "ipython3",
   "version": "3.7.9"
  }
 },
 "nbformat": 4,
 "nbformat_minor": 5
}
