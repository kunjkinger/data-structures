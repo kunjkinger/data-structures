{
 "cells": [
  {
   "cell_type": "code",
   "execution_count": 1,
   "id": "9473773a",
   "metadata": {},
   "outputs": [
    {
     "name": "stdout",
     "output_type": "stream",
     "text": [
      "Requirement already satisfied: jupyterthemes in c:\\users\\kunjk\\kunj\\lib\\site-packages (0.20.0)"
     ]
    },
    {
     "name": "stderr",
     "output_type": "stream",
     "text": [
      "WARNING: Ignoring invalid distribution -cipy (c:\\users\\kunjk\\kunj\\lib\\site-packages)\n",
      "WARNING: Ignoring invalid distribution -cipy (c:\\users\\kunjk\\kunj\\lib\\site-packages)\n",
      "WARNING: Ignoring invalid distribution -cipy (c:\\users\\kunjk\\kunj\\lib\\site-packages)\n",
      "WARNING: Ignoring invalid distribution -cipy (c:\\users\\kunjk\\kunj\\lib\\site-packages)\n",
      "WARNING: You are using pip version 21.2.4; however, version 21.3 is available.\n",
      "You should consider upgrading via the 'c:\\users\\kunjk\\kunj\\python.exe -m pip install --upgrade pip' command.\n"
     ]
    },
    {
     "name": "stdout",
     "output_type": "stream",
     "text": [
      "\n",
      "Requirement already satisfied: jupyter-core in c:\\users\\kunjk\\kunj\\lib\\site-packages (from jupyterthemes) (4.7.1)\n",
      "Requirement already satisfied: notebook>=5.6.0 in c:\\users\\kunjk\\kunj\\lib\\site-packages (from jupyterthemes) (6.3.0)\n",
      "Requirement already satisfied: lesscpy>=0.11.2 in c:\\users\\kunjk\\kunj\\lib\\site-packages (from jupyterthemes) (0.15.0)\n",
      "Requirement already satisfied: ipython>=5.4.1 in c:\\users\\kunjk\\kunj\\lib\\site-packages (from jupyterthemes) (7.22.0)\n",
      "Requirement already satisfied: matplotlib>=1.4.3 in c:\\users\\kunjk\\kunj\\lib\\site-packages (from jupyterthemes) (3.4.3)\n",
      "Requirement already satisfied: jedi>=0.16 in c:\\users\\kunjk\\kunj\\lib\\site-packages (from ipython>=5.4.1->jupyterthemes) (0.18.0)\n",
      "Requirement already satisfied: prompt-toolkit!=3.0.0,!=3.0.1,<3.1.0,>=2.0.0 in c:\\users\\kunjk\\kunj\\lib\\site-packages (from ipython>=5.4.1->jupyterthemes) (3.0.17)\n",
      "Requirement already satisfied: backcall in c:\\users\\kunjk\\kunj\\lib\\site-packages (from ipython>=5.4.1->jupyterthemes) (0.2.0)\n",
      "Requirement already satisfied: decorator in c:\\users\\kunjk\\kunj\\lib\\site-packages (from ipython>=5.4.1->jupyterthemes) (4.4.2)\n",
      "Requirement already satisfied: colorama in c:\\users\\kunjk\\kunj\\lib\\site-packages (from ipython>=5.4.1->jupyterthemes) (0.4.4)\n",
      "Requirement already satisfied: traitlets>=4.2 in c:\\users\\kunjk\\kunj\\lib\\site-packages (from ipython>=5.4.1->jupyterthemes) (5.0.5)\n",
      "Requirement already satisfied: pickleshare in c:\\users\\kunjk\\kunj\\lib\\site-packages (from ipython>=5.4.1->jupyterthemes) (0.7.5)\n",
      "Requirement already satisfied: pygments in c:\\users\\kunjk\\kunj\\lib\\site-packages (from ipython>=5.4.1->jupyterthemes) (2.8.1)\n",
      "Requirement already satisfied: setuptools>=18.5 in c:\\users\\kunjk\\kunj\\lib\\site-packages (from ipython>=5.4.1->jupyterthemes) (52.0.0.post20210125)\n",
      "Requirement already satisfied: parso<0.9.0,>=0.8.0 in c:\\users\\kunjk\\kunj\\lib\\site-packages (from jedi>=0.16->ipython>=5.4.1->jupyterthemes) (0.8.2)\n",
      "Requirement already satisfied: ply in c:\\users\\kunjk\\kunj\\lib\\site-packages (from lesscpy>=0.11.2->jupyterthemes) (3.11)\n",
      "Requirement already satisfied: six in c:\\users\\kunjk\\kunj\\lib\\site-packages (from lesscpy>=0.11.2->jupyterthemes) (1.15.0)\n",
      "Requirement already satisfied: pyparsing>=2.2.1 in c:\\users\\kunjk\\kunj\\lib\\site-packages (from matplotlib>=1.4.3->jupyterthemes) (2.4.7)\n",
      "Requirement already satisfied: pillow>=6.2.0 in c:\\users\\kunjk\\kunj\\lib\\site-packages (from matplotlib>=1.4.3->jupyterthemes) (8.3.1)\n",
      "Requirement already satisfied: python-dateutil>=2.7 in c:\\users\\kunjk\\kunj\\lib\\site-packages (from matplotlib>=1.4.3->jupyterthemes) (2.8.1)\n",
      "Requirement already satisfied: numpy>=1.16 in c:\\users\\kunjk\\kunj\\lib\\site-packages (from matplotlib>=1.4.3->jupyterthemes) (1.19.5)\n",
      "Requirement already satisfied: kiwisolver>=1.0.1 in c:\\users\\kunjk\\kunj\\lib\\site-packages (from matplotlib>=1.4.3->jupyterthemes) (1.3.1)\n",
      "Requirement already satisfied: cycler>=0.10 in c:\\users\\kunjk\\kunj\\lib\\site-packages (from matplotlib>=1.4.3->jupyterthemes) (0.10.0)\n",
      "Requirement already satisfied: argon2-cffi in c:\\users\\kunjk\\kunj\\lib\\site-packages (from notebook>=5.6.0->jupyterthemes) (20.1.0)\n",
      "Requirement already satisfied: nbconvert in c:\\users\\kunjk\\kunj\\lib\\site-packages (from notebook>=5.6.0->jupyterthemes) (6.0.7)\n",
      "Requirement already satisfied: Send2Trash>=1.5.0 in c:\\users\\kunjk\\kunj\\lib\\site-packages (from notebook>=5.6.0->jupyterthemes) (1.5.0)\n",
      "Requirement already satisfied: ipython-genutils in c:\\users\\kunjk\\kunj\\lib\\site-packages (from notebook>=5.6.0->jupyterthemes) (0.2.0)\n",
      "Requirement already satisfied: tornado>=6.1 in c:\\users\\kunjk\\kunj\\lib\\site-packages (from notebook>=5.6.0->jupyterthemes) (6.1)\n",
      "Requirement already satisfied: jinja2 in c:\\users\\kunjk\\kunj\\lib\\site-packages (from notebook>=5.6.0->jupyterthemes) (2.11.3)\n",
      "Requirement already satisfied: nbformat in c:\\users\\kunjk\\kunj\\lib\\site-packages (from notebook>=5.6.0->jupyterthemes) (5.1.3)\n",
      "Requirement already satisfied: ipykernel in c:\\users\\kunjk\\kunj\\lib\\site-packages (from notebook>=5.6.0->jupyterthemes) (5.3.4)\n",
      "Requirement already satisfied: pyzmq>=17 in c:\\users\\kunjk\\kunj\\lib\\site-packages (from notebook>=5.6.0->jupyterthemes) (20.0.0)\n",
      "Requirement already satisfied: jupyter-client>=5.3.4 in c:\\users\\kunjk\\kunj\\lib\\site-packages (from notebook>=5.6.0->jupyterthemes) (6.1.12)\n",
      "Requirement already satisfied: prometheus-client in c:\\users\\kunjk\\kunj\\lib\\site-packages (from notebook>=5.6.0->jupyterthemes) (0.10.1)\n",
      "Requirement already satisfied: terminado>=0.8.3 in c:\\users\\kunjk\\kunj\\lib\\site-packages (from notebook>=5.6.0->jupyterthemes) (0.9.4)\n",
      "Requirement already satisfied: pywin32>=1.0 in c:\\users\\kunjk\\kunj\\lib\\site-packages (from jupyter-core->jupyterthemes) (227)\n",
      "Requirement already satisfied: wcwidth in c:\\users\\kunjk\\kunj\\lib\\site-packages (from prompt-toolkit!=3.0.0,!=3.0.1,<3.1.0,>=2.0.0->ipython>=5.4.1->jupyterthemes) (0.2.5)\n",
      "Requirement already satisfied: pywinpty>=0.5 in c:\\users\\kunjk\\kunj\\lib\\site-packages (from terminado>=0.8.3->notebook>=5.6.0->jupyterthemes) (0.5.7)\n",
      "Requirement already satisfied: cffi>=1.0.0 in c:\\users\\kunjk\\kunj\\lib\\site-packages (from argon2-cffi->notebook>=5.6.0->jupyterthemes) (1.14.5)\n",
      "Requirement already satisfied: pycparser in c:\\users\\kunjk\\kunj\\lib\\site-packages (from cffi>=1.0.0->argon2-cffi->notebook>=5.6.0->jupyterthemes) (2.20)\n",
      "Requirement already satisfied: MarkupSafe>=0.23 in c:\\users\\kunjk\\kunj\\lib\\site-packages (from jinja2->notebook>=5.6.0->jupyterthemes) (1.1.1)\n",
      "Requirement already satisfied: pandocfilters>=1.4.1 in c:\\users\\kunjk\\kunj\\lib\\site-packages (from nbconvert->notebook>=5.6.0->jupyterthemes) (1.4.3)\n",
      "Requirement already satisfied: mistune<2,>=0.8.1 in c:\\users\\kunjk\\kunj\\lib\\site-packages (from nbconvert->notebook>=5.6.0->jupyterthemes) (0.8.4)\n",
      "Requirement already satisfied: nbclient<0.6.0,>=0.5.0 in c:\\users\\kunjk\\kunj\\lib\\site-packages (from nbconvert->notebook>=5.6.0->jupyterthemes) (0.5.3)\n",
      "Requirement already satisfied: defusedxml in c:\\users\\kunjk\\kunj\\lib\\site-packages (from nbconvert->notebook>=5.6.0->jupyterthemes) (0.7.1)\n",
      "Requirement already satisfied: testpath in c:\\users\\kunjk\\kunj\\lib\\site-packages (from nbconvert->notebook>=5.6.0->jupyterthemes) (0.4.4)\n",
      "Requirement already satisfied: entrypoints>=0.2.2 in c:\\users\\kunjk\\kunj\\lib\\site-packages (from nbconvert->notebook>=5.6.0->jupyterthemes) (0.3)\n",
      "Requirement already satisfied: bleach in c:\\users\\kunjk\\kunj\\lib\\site-packages (from nbconvert->notebook>=5.6.0->jupyterthemes) (3.3.0)\n",
      "Requirement already satisfied: jupyterlab-pygments in c:\\users\\kunjk\\kunj\\lib\\site-packages (from nbconvert->notebook>=5.6.0->jupyterthemes) (0.1.2)\n",
      "Requirement already satisfied: async-generator in c:\\users\\kunjk\\kunj\\lib\\site-packages (from nbclient<0.6.0,>=0.5.0->nbconvert->notebook>=5.6.0->jupyterthemes) (1.10)\n",
      "Requirement already satisfied: nest-asyncio in c:\\users\\kunjk\\kunj\\lib\\site-packages (from nbclient<0.6.0,>=0.5.0->nbconvert->notebook>=5.6.0->jupyterthemes) (1.5.1)\n",
      "Requirement already satisfied: jsonschema!=2.5.0,>=2.4 in c:\\users\\kunjk\\kunj\\lib\\site-packages (from nbformat->notebook>=5.6.0->jupyterthemes) (3.2.0)\n",
      "Requirement already satisfied: importlib-metadata in c:\\users\\kunjk\\kunj\\lib\\site-packages (from jsonschema!=2.5.0,>=2.4->nbformat->notebook>=5.6.0->jupyterthemes) (3.10.0)\n",
      "Requirement already satisfied: pyrsistent>=0.14.0 in c:\\users\\kunjk\\kunj\\lib\\site-packages (from jsonschema!=2.5.0,>=2.4->nbformat->notebook>=5.6.0->jupyterthemes) (0.17.3)\n",
      "Requirement already satisfied: attrs>=17.4.0 in c:\\users\\kunjk\\kunj\\lib\\site-packages (from jsonschema!=2.5.0,>=2.4->nbformat->notebook>=5.6.0->jupyterthemes) (20.3.0)\n",
      "Requirement already satisfied: webencodings in c:\\users\\kunjk\\kunj\\lib\\site-packages (from bleach->nbconvert->notebook>=5.6.0->jupyterthemes) (0.5.1)\n",
      "Requirement already satisfied: packaging in c:\\users\\kunjk\\kunj\\lib\\site-packages (from bleach->nbconvert->notebook>=5.6.0->jupyterthemes) (20.9)\n",
      "Requirement already satisfied: zipp>=0.5 in c:\\users\\kunjk\\kunj\\lib\\site-packages (from importlib-metadata->jsonschema!=2.5.0,>=2.4->nbformat->notebook>=5.6.0->jupyterthemes) (3.4.1)\n",
      "Requirement already satisfied: typing-extensions>=3.6.4 in c:\\users\\kunjk\\kunj\\lib\\site-packages (from importlib-metadata->jsonschema!=2.5.0,>=2.4->nbformat->notebook>=5.6.0->jupyterthemes) (3.7.4.3)\n"
     ]
    }
   ],
   "source": [
    "!pip install jupyterthemes\n",
    "!jt -t chesterish    "
   ]
  },
  {
   "cell_type": "code",
   "execution_count": 2,
   "id": "aba584b9",
   "metadata": {},
   "outputs": [],
   "source": [
    "def sum1(n):\n",
    "    total_sum = 0\n",
    "    \n",
    "    for i in range(n+1):\n",
    "        total_sum += i\n",
    "    \n",
    "    return total_sum"
   ]
  },
  {
   "cell_type": "code",
   "execution_count": 3,
   "id": "cd7d0aef",
   "metadata": {},
   "outputs": [],
   "source": [
    "def sum2(n):\n",
    "    return (n*(n+1))/2"
   ]
  },
  {
   "cell_type": "code",
   "execution_count": 4,
   "id": "888140e1",
   "metadata": {},
   "outputs": [
    {
     "name": "stdout",
     "output_type": "stream",
     "text": [
      "3.61 µs ± 49.8 ns per loop (mean ± std. dev. of 7 runs, 100000 loops each)\n"
     ]
    }
   ],
   "source": [
    "%timeit sum1(100)"
   ]
  },
  {
   "cell_type": "code",
   "execution_count": 5,
   "id": "96bc03f3",
   "metadata": {},
   "outputs": [
    {
     "name": "stdout",
     "output_type": "stream",
     "text": [
      "176 ns ± 23 ns per loop (mean ± std. dev. of 7 runs, 10000000 loops each)\n"
     ]
    }
   ],
   "source": [
    "%timeit sum2(100)"
   ]
  },
  {
   "cell_type": "markdown",
   "id": "f8cb4212",
   "metadata": {},
   "source": [
    "# big o examples"
   ]
  },
  {
   "cell_type": "markdown",
   "id": "fe451da2",
   "metadata": {},
   "source": [
    "O(1) constant"
   ]
  },
  {
   "cell_type": "code",
   "execution_count": 6,
   "id": "ce4e847b",
   "metadata": {},
   "outputs": [],
   "source": [
    "def func_constant(values):\n",
    "    print(values[0])"
   ]
  },
  {
   "cell_type": "code",
   "execution_count": 8,
   "id": "a2a072f8",
   "metadata": {},
   "outputs": [
    {
     "name": "stdout",
     "output_type": "stream",
     "text": [
      "1\n"
     ]
    }
   ],
   "source": [
    "func_constant([1,2,3,4,5,5,6])"
   ]
  },
  {
   "cell_type": "markdown",
   "id": "7c0f2af7",
   "metadata": {},
   "source": [
    "O(n) Linear"
   ]
  },
  {
   "cell_type": "code",
   "execution_count": 9,
   "id": "3e43bac6",
   "metadata": {},
   "outputs": [],
   "source": [
    "def func_lin(lis):\n",
    "    for i in lis:\n",
    "        print(i)"
   ]
  },
  {
   "cell_type": "code",
   "execution_count": 10,
   "id": "77f27c06",
   "metadata": {},
   "outputs": [
    {
     "name": "stdout",
     "output_type": "stream",
     "text": [
      "1\n",
      "2\n",
      "3\n",
      "4\n",
      "5\n",
      "6\n"
     ]
    }
   ],
   "source": [
    "func_lin([1,2,3,4,5,6])"
   ]
  },
  {
   "cell_type": "markdown",
   "id": "713ed067",
   "metadata": {},
   "source": [
    "O(n^2) Quadratic"
   ]
  },
  {
   "cell_type": "code",
   "execution_count": 16,
   "id": "0e6f6801",
   "metadata": {},
   "outputs": [],
   "source": [
    "def func_quad(lis):\n",
    "    \n",
    "    for i in lis:\n",
    "        for j in lis:\n",
    "            print(i,j)"
   ]
  },
  {
   "cell_type": "code",
   "execution_count": 12,
   "id": "3ea55b53",
   "metadata": {},
   "outputs": [
    {
     "name": "stdout",
     "output_type": "stream",
     "text": [
      "1 1\n",
      "1 2\n",
      "1 3\n",
      "1 4\n",
      "2 1\n",
      "2 2\n",
      "2 3\n",
      "2 4\n",
      "3 1\n",
      "3 2\n",
      "3 3\n",
      "3 4\n",
      "4 1\n",
      "4 2\n",
      "4 3\n",
      "4 4\n"
     ]
    }
   ],
   "source": [
    "func_quad([1,2,3,4])"
   ]
  },
  {
   "cell_type": "code",
   "execution_count": 17,
   "id": "f6ba3b48",
   "metadata": {},
   "outputs": [],
   "source": [
    "# this one is not n^2 this is 2n because of the addition\n",
    "def print_2(n): #o(n)\n",
    "    \n",
    "    for i in n:\n",
    "        print(i)\n",
    "        \n",
    "    for i in n:\n",
    "        print(i)"
   ]
  },
  {
   "cell_type": "code",
   "execution_count": 18,
   "id": "dd382ad7",
   "metadata": {},
   "outputs": [
    {
     "name": "stdout",
     "output_type": "stream",
     "text": [
      "1\n",
      "2\n",
      "3\n",
      "1\n",
      "2\n",
      "3\n"
     ]
    }
   ],
   "source": [
    "n = [1,2,3]\n",
    "print_2(n)"
   ]
  },
  {
   "cell_type": "code",
   "execution_count": 35,
   "id": "6e7cf929",
   "metadata": {},
   "outputs": [],
   "source": [
    "def comp(lst):\n",
    "    \n",
    "    print(lst[0])\n",
    "    print('\\n') # o(1)\n",
    "    \n",
    "    midpoint = len(lst)//2\n",
    "    \n",
    "    for i in lst[:midpoint]: # O(n/2)\n",
    "        print(i)\n",
    "        \n",
    "    for x in range(10): # o(10)\n",
    "        print('hello world')"
   ]
  },
  {
   "cell_type": "code",
   "execution_count": 36,
   "id": "3d3af086",
   "metadata": {},
   "outputs": [
    {
     "name": "stdout",
     "output_type": "stream",
     "text": [
      "1\n",
      "\n",
      "\n",
      "1\n",
      "2\n",
      "3\n",
      "4\n",
      "5\n",
      "hello world\n",
      "hello world\n",
      "hello world\n",
      "hello world\n",
      "hello world\n",
      "hello world\n",
      "hello world\n",
      "hello world\n",
      "hello world\n",
      "hello world\n"
     ]
    }
   ],
   "source": [
    "lst = [1,2,3,4,5,6,7,8,9,10]\n",
    "\n",
    "comp(lst)"
   ]
  },
  {
   "cell_type": "code",
   "execution_count": 31,
   "id": "680d394c",
   "metadata": {},
   "outputs": [
    {
     "data": {
      "text/plain": [
       "2"
      ]
     },
     "execution_count": 31,
     "metadata": {},
     "output_type": "execute_result"
    }
   ],
   "source": [
    "len(lst)//2"
   ]
  },
  {
   "cell_type": "code",
   "execution_count": 37,
   "id": "14b38b2a",
   "metadata": {},
   "outputs": [
    {
     "data": {
      "text/plain": [
       "3"
      ]
     },
     "execution_count": 37,
     "metadata": {},
     "output_type": "execute_result"
    }
   ],
   "source": [
    "7//2"
   ]
  },
  {
   "cell_type": "code",
   "execution_count": null,
   "id": "7e209e97",
   "metadata": {},
   "outputs": [],
   "source": []
  }
 ],
 "metadata": {
  "kernelspec": {
   "display_name": "Python 3",
   "language": "python",
   "name": "python3"
  },
  "language_info": {
   "codemirror_mode": {
    "name": "ipython",
    "version": 3
   },
   "file_extension": ".py",
   "mimetype": "text/x-python",
   "name": "python",
   "nbconvert_exporter": "python",
   "pygments_lexer": "ipython3",
   "version": "3.7.9"
  }
 },
 "nbformat": 4,
 "nbformat_minor": 5
}
