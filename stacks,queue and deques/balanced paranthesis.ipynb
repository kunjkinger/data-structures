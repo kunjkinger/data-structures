{
 "cells": [
  {
   "cell_type": "code",
   "execution_count": 3,
   "id": "f63944ab",
   "metadata": {},
   "outputs": [],
   "source": [
    "class stack(object):\n",
    "    \n",
    "    def __init__(self):\n",
    "        self.items = []\n",
    "        \n",
    "    def isEmpty(self):\n",
    "        return self.items == []\n",
    "    \n",
    "    def push(self,items):\n",
    "        self.items.append(item)\n",
    "        \n",
    "    def pop(self):\n",
    "        return self.items.pop()\n",
    "    \n",
    "    def peek(self):\n",
    "        return self.items[len(self.items) - 1]\n",
    "        \n",
    "    def size(self):\n",
    "        return len(self.items)"
   ]
  },
  {
   "cell_type": "code",
   "execution_count": 31,
   "id": "15c557b2",
   "metadata": {},
   "outputs": [],
   "source": [
    "def balance_check(s):\n",
    "    \n",
    "    if len(s) % 2 != 0:\n",
    "        return False\n",
    "    \n",
    "    opening = set('([{')\n",
    "    \n",
    "    matches = set([('(',')'),('[',']'),('{','}')])\n",
    "    \n",
    "    stack = []\n",
    "    \n",
    "    for i in s:\n",
    "        if i in opening:\n",
    "            stack.append(i)\n",
    "            print(stack)\n",
    "        else:\n",
    "            \n",
    "            if len(stack) == 0:\n",
    "                return False\n",
    "            \n",
    "            last_open = stack.pop()\n",
    "            print(last_open, i)\n",
    "            \n",
    "            if (last_open, i) not in matches:\n",
    "                return False\n",
    "    \n",
    "    return len(stack) == 0"
   ]
  },
  {
   "cell_type": "code",
   "execution_count": 37,
   "id": "bce0384e",
   "metadata": {},
   "outputs": [
    {
     "name": "stdout",
     "output_type": "stream",
     "text": [
      "['(']\n",
      "( )\n",
      "['[']\n",
      "['[', '(']\n",
      "( )\n",
      "[ ]\n"
     ]
    },
    {
     "data": {
      "text/plain": [
       "True"
      ]
     },
     "execution_count": 37,
     "metadata": {},
     "output_type": "execute_result"
    }
   ],
   "source": [
    "balance_check('()[()]')"
   ]
  },
  {
   "cell_type": "markdown",
   "id": "da13ddba",
   "metadata": {},
   "source": [
    "implementing a queue with a use of 2 stacks"
   ]
  },
  {
   "cell_type": "code",
   "execution_count": 95,
   "id": "158cc265",
   "metadata": {},
   "outputs": [],
   "source": [
    "class Queue2stack(object):\n",
    "    \n",
    "    def __init__(self):\n",
    "        self.instack = []\n",
    "        self.outstack = []\n",
    "        \n",
    "    def enque(self,item):\n",
    "        return self.instack.append(item)\n",
    "    \n",
    "    def deque(self):\n",
    "        \n",
    "        if not self.outstack:\n",
    "            while self.instack:\n",
    "                self.outstack.append(self.instack.pop())\n",
    "        return self.outstack.pop()"
   ]
  },
  {
   "cell_type": "code",
   "execution_count": 96,
   "id": "8d3cd37e",
   "metadata": {},
   "outputs": [],
   "source": [
    "q = Queue2stack()"
   ]
  },
  {
   "cell_type": "code",
   "execution_count": 98,
   "id": "aa060353",
   "metadata": {},
   "outputs": [],
   "source": [
    "q.enque(2)"
   ]
  },
  {
   "cell_type": "code",
   "execution_count": 99,
   "id": "bcbd9b8a",
   "metadata": {},
   "outputs": [],
   "source": [
    "q.enque(3)"
   ]
  },
  {
   "cell_type": "code",
   "execution_count": 100,
   "id": "5215301e",
   "metadata": {},
   "outputs": [],
   "source": [
    "q.enque(4)"
   ]
  },
  {
   "cell_type": "code",
   "execution_count": 101,
   "id": "e85f937c",
   "metadata": {},
   "outputs": [],
   "source": [
    "q.enque(5)"
   ]
  },
  {
   "cell_type": "code",
   "execution_count": 102,
   "id": "4f61538b",
   "metadata": {},
   "outputs": [],
   "source": [
    "q.enque(6)"
   ]
  },
  {
   "cell_type": "code",
   "execution_count": 105,
   "id": "7c143598",
   "metadata": {},
   "outputs": [
    {
     "data": {
      "text/plain": [
       "3"
      ]
     },
     "execution_count": 105,
     "metadata": {},
     "output_type": "execute_result"
    }
   ],
   "source": [
    "q.deque()"
   ]
  },
  {
   "cell_type": "code",
   "execution_count": 106,
   "id": "65198828",
   "metadata": {},
   "outputs": [
    {
     "data": {
      "text/plain": [
       "4"
      ]
     },
     "execution_count": 106,
     "metadata": {},
     "output_type": "execute_result"
    }
   ],
   "source": [
    "[1,2,3,4].pop()"
   ]
  },
  {
   "cell_type": "code",
   "execution_count": null,
   "id": "da2ee80e",
   "metadata": {},
   "outputs": [],
   "source": []
  }
 ],
 "metadata": {
  "kernelspec": {
   "display_name": "Python 3",
   "language": "python",
   "name": "python3"
  },
  "language_info": {
   "codemirror_mode": {
    "name": "ipython",
    "version": 3
   },
   "file_extension": ".py",
   "mimetype": "text/x-python",
   "name": "python",
   "nbconvert_exporter": "python",
   "pygments_lexer": "ipython3",
   "version": "3.7.9"
  }
 },
 "nbformat": 4,
 "nbformat_minor": 5
}
