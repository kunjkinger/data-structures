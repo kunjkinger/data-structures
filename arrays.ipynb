{
  "nbformat": 4,
  "nbformat_minor": 0,
  "metadata": {
    "colab": {
      "name": "arrays.ipynb",
      "provenance": [],
      "authorship_tag": "ABX9TyN1AvsFQwII1tKYRfX3QhcV",
      "include_colab_link": true
    },
    "kernelspec": {
      "name": "python3",
      "display_name": "Python 3"
    },
    "language_info": {
      "name": "python"
    }
  },
  "cells": [
    {
      "cell_type": "markdown",
      "metadata": {
        "id": "view-in-github",
        "colab_type": "text"
      },
      "source": [
        "<a href=\"https://colab.research.google.com/github/kunjkinger/data-structures/blob/main/arrays.ipynb\" target=\"_parent\"><img src=\"https://colab.research.google.com/assets/colab-badge.svg\" alt=\"Open In Colab\"/></a>"
      ]
    },
    {
      "cell_type": "code",
      "metadata": {
        "colab": {
          "base_uri": "https://localhost:8080/"
        },
        "id": "T1muRRMgRP5m",
        "outputId": "380d53fd-1d7c-4fa6-cd39-9167378c14ba"
      },
      "source": [
        "array = [10,3,7,5]\n",
        "\n",
        "print(array)"
      ],
      "execution_count": null,
      "outputs": [
        {
          "output_type": "stream",
          "name": "stdout",
          "text": [
            "[10, 3, 7, 5]\n"
          ]
        }
      ]
    },
    {
      "cell_type": "markdown",
      "metadata": {
        "id": "4z7HG-YPWnDM"
      },
      "source": [
        "Arrays are linear search O(N) for random insertion and deletion "
      ]
    },
    {
      "cell_type": "code",
      "metadata": {
        "colab": {
          "base_uri": "https://localhost:8080/"
        },
        "id": "J4a-EDSDTWjr",
        "outputId": "10c9193a-af72-4f46-ffec-ec21608ecdcc"
      },
      "source": [
        "array[1]"
      ],
      "execution_count": null,
      "outputs": [
        {
          "output_type": "execute_result",
          "data": {
            "text/plain": [
              "3"
            ]
          },
          "metadata": {},
          "execution_count": 14
        }
      ]
    },
    {
      "cell_type": "code",
      "metadata": {
        "colab": {
          "base_uri": "https://localhost:8080/"
        },
        "id": "10A7GGWvTgjH",
        "outputId": "f5c27531-c1b4-4821-c2f8-fd477f777fdd"
      },
      "source": [
        "#finding maximum \n",
        "array = [11,2,5,10,67,0]\n",
        "\n",
        "#lets imagine first index is maximum\n",
        "max = array[0]\n",
        "\n",
        "for num in array:\n",
        "  if num > max:\n",
        "    max = num\n",
        "\n",
        "print(max)"
      ],
      "execution_count": null,
      "outputs": [
        {
          "output_type": "stream",
          "name": "stdout",
          "text": [
            "67\n"
          ]
        }
      ]
    },
    {
      "cell_type": "code",
      "metadata": {
        "colab": {
          "base_uri": "https://localhost:8080/"
        },
        "id": "v7FK6khUVn7_",
        "outputId": "aec8653b-6f53-481e-fa49-d72517d775bd"
      },
      "source": [
        "#reversing an array example [1,2,3,4,5] --> [5,4,3,2,1]\n",
        "def reverse(nums):\n",
        "\n",
        "  start_index = 0\n",
        "  end_index = len(nums) - 1\n",
        "\n",
        "# 0,1,2,3,4,5 -- start index = 0, end _index = 5 --> end index is greater than start index\n",
        "  while end_index > start_index:\n",
        "    nums[start_index], nums[end_index] = nums[end_index], nums[start_index] # this means 0 will become 5 and 5 become 0\n",
        "    #go to next index location for start and previous index for end \n",
        "    start_index = start_index + 1\n",
        "    end_index = end_index - 1\n",
        "\n",
        "if __name__ == '__main__':\n",
        "  n = [1,2,3,4]\n",
        "  reverse(n)\n",
        "  print(n)"
      ],
      "execution_count": null,
      "outputs": [
        {
          "output_type": "stream",
          "name": "stdout",
          "text": [
            "[4, 3, 2, 1]\n"
          ]
        }
      ]
    },
    {
      "cell_type": "code",
      "metadata": {
        "colab": {
          "base_uri": "https://localhost:8080/"
        },
        "id": "KYjthqwYZJq9",
        "outputId": "91fbb619-f7e8-46b3-dac8-a921fb6a21d1"
      },
      "source": [
        "# palindrome problem\n",
        "# same forward and backward\n",
        "\n",
        "def is_palindrome(data):\n",
        "\n",
        "  #string in to a list\n",
        "  data = list (data)\n",
        "\n",
        "  original_string = data\n",
        "  reversed_string = data[::-1] # O(N) complexity\n",
        "\n",
        "  if original_string == reversed_string:\n",
        "    print('True')\n",
        "  else:\n",
        "    print('False')\n",
        "\n",
        "def reverse(data):\n",
        "\n",
        "  start_index = 0\n",
        "  end_index = len(data) - 1\n",
        "\n",
        "# 0,1,2,3,4,5 -- start index = 0, end _index = 5 --> end index is greater than start index\n",
        "  while end_index > start_index:\n",
        "    data[start_index], data[end_index] = data[end_index], data[start_index] # this means 0 will become 5 and 5 become 0\n",
        "    #go to next index location for start and previous index for end \n",
        "    start_index = start_index + 1\n",
        "    end_index = end_index - 1\n",
        "\n",
        "  return ''.join(data)\n",
        "\n",
        "if __name__ == '__main__':\n",
        "  palindrome('madam')"
      ],
      "execution_count": null,
      "outputs": [
        {
          "output_type": "stream",
          "name": "stdout",
          "text": [
            "True\n"
          ]
        }
      ]
    },
    {
      "cell_type": "code",
      "metadata": {
        "colab": {
          "base_uri": "https://localhost:8080/"
        },
        "id": "KCh9qQxzcA4m",
        "outputId": "f542086d-2b01-4174-bf87-3df32d6b37ad"
      },
      "source": [
        "# integer 1234 --> 4321\n",
        "\n",
        "def reverse_integer(n):\n",
        "\n",
        "  reversed = 0\n",
        "  remainder = 0\n",
        "\n",
        "  while n > 0:\n",
        "    remainder = n % 10 # 1234 --> 4, 123 --> 3\n",
        "    reversed = reversed * 10 + remainder \n",
        "    n = n//10 # n --> 1234// 10--> 123--> 12\n",
        "  \n",
        "  return reversed\n",
        "\n",
        "if __name__ == '__main__':\n",
        "  print(reverse_integer(12345))"
      ],
      "execution_count": null,
      "outputs": [
        {
          "output_type": "stream",
          "name": "stdout",
          "text": [
            "54321\n"
          ]
        }
      ]
    },
    {
      "cell_type": "code",
      "metadata": {
        "colab": {
          "base_uri": "https://localhost:8080/"
        },
        "id": "yNarhr3Jji1s",
        "outputId": "3da65a2e-466a-46e5-a835-9c4eeed399d5"
      },
      "source": [
        "#anagram\n",
        "\n",
        "def is_anagram(n1,n2):\n",
        "  \n",
        "  if len(n1) != len(n2):\n",
        "    return False\n",
        "\n",
        "  #firstly sort the letters of the strings and then we have to compare the letters with the same indexes\n",
        "  # O(NlogN)\n",
        "  n1 = sorted(n1)\n",
        "  n2 = sorted(n2)\n",
        "\n",
        "  for i in range(len(n1)):\n",
        "    if n1[i] != n2[i]:\n",
        "      return False\n",
        "  return True\n",
        "\n",
        "if __name__ == '__main__':\n",
        "\n",
        "  n1 = ['k','u','n','j']\n",
        "  n2 = ['j','u','n','k']\n",
        "\n",
        "  print(is_anagram(n1,n2))"
      ],
      "execution_count": null,
      "outputs": [
        {
          "output_type": "stream",
          "name": "stdout",
          "text": [
            "True\n"
          ]
        }
      ]
    },
    {
      "cell_type": "code",
      "metadata": {
        "colab": {
          "base_uri": "https://localhost:8080/"
        },
        "id": "cPlOqZLXOpnN",
        "outputId": "dddc3eca-5b5f-4aab-e331-4979a5c0c178"
      },
      "source": [
        "#finding duplicates\n",
        "# O(N linear running time)\n",
        "def duplicates(nums):\n",
        "\n",
        "  for i in nums:\n",
        "    if nums[abs(i)] >= 0:\n",
        "      nums[abs(i)] = -nums[abs(i)]\n",
        "    else:\n",
        "      print('Duplicate found: %s' %str(abs(i)))\n",
        "\n",
        "if __name__ == '__main__':\n",
        "  nums = [1,2,3,4,2,3]\n",
        "\n",
        "  duplicates(nums)"
      ],
      "execution_count": null,
      "outputs": [
        {
          "output_type": "stream",
          "name": "stdout",
          "text": [
            "Duplicate found: 2\n",
            "Duplicate found: 3\n"
          ]
        }
      ]
    },
    {
      "cell_type": "code",
      "metadata": {
        "id": "5weeZ-zYSvli"
      },
      "source": [
        ""
      ],
      "execution_count": null,
      "outputs": []
    }
  ]
}