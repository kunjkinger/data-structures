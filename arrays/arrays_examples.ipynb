{
 "cells": [
  {
   "cell_type": "code",
   "execution_count": 1,
   "id": "0b631145",
   "metadata": {},
   "outputs": [],
   "source": [
    "def anagram(s1,s2):\n",
    "    \n",
    "    s1 = s1.replace(' ','').lower()\n",
    "    s2 = s2.replace(' ', '').lower()\n",
    "    \n",
    "    return sorted(s1) == sorted(s2)"
   ]
  },
  {
   "cell_type": "code",
   "execution_count": 2,
   "id": "4711610c",
   "metadata": {},
   "outputs": [],
   "source": [
    "#first one made using python builtin "
   ]
  },
  {
   "cell_type": "code",
   "execution_count": 3,
   "id": "9e6dadb0",
   "metadata": {},
   "outputs": [],
   "source": [
    "def anagram2(s1,s2):\n",
    "\n",
    "    s1 = s1.replace(' ','').lower()\n",
    "    s2 = s2.replace(' ', '').lower()\n",
    "    \n",
    "    #edge case check\n",
    "    if len(s1) != len(s2):\n",
    "        return False\n",
    "    \n",
    "    count = {}\n",
    "    \n",
    "    for letter in s1: #add in count\n",
    "        \n",
    "        if letter in count:\n",
    "            count[letter] += 1\n",
    "        else:\n",
    "            count[letter] = 1\n",
    "    \n",
    "    for letter in s2: # reduce from count\n",
    "        if letter in count:\n",
    "            count[letter] -= 1\n",
    "        else:\n",
    "            count[letter] = 1\n",
    "            \n",
    "    for k in count:\n",
    "        if count[k] != 0:\n",
    "            return False\n",
    "    return True"
   ]
  },
  {
   "cell_type": "code",
   "execution_count": 6,
   "id": "04b1a39d",
   "metadata": {},
   "outputs": [
    {
     "data": {
      "text/plain": [
       "True"
      ]
     },
     "execution_count": 6,
     "metadata": {},
     "output_type": "execute_result"
    }
   ],
   "source": [
    "anagram2('clint eastwood', ' old west action')"
   ]
  },
  {
   "cell_type": "markdown",
   "id": "c1776b9e",
   "metadata": {},
   "source": [
    "array pair "
   ]
  },
  {
   "cell_type": "code",
   "execution_count": 11,
   "id": "cfc031f5",
   "metadata": {},
   "outputs": [],
   "source": [
    "def pair_sum(arr,k):\n",
    "    \n",
    "    if len(arr) < 2:\n",
    "        return 'add more items'\n",
    "    \n",
    "    #sets for tracking\n",
    "    seen = set()\n",
    "    output = set()\n",
    "    \n",
    "    for i in arr:\n",
    "        target = k - i\n",
    "        if target not in seen:\n",
    "            seen.add(i)\n",
    "        else:\n",
    "            output.add(((min(i,target)),max(i,target)))\n",
    "    return output"
   ]
  },
  {
   "cell_type": "code",
   "execution_count": 14,
   "id": "f9c9aa16",
   "metadata": {},
   "outputs": [
    {
     "data": {
      "text/plain": [
       "set()"
      ]
     },
     "execution_count": 14,
     "metadata": {},
     "output_type": "execute_result"
    }
   ],
   "source": [
    "pair_sum([1,2],4)"
   ]
  },
  {
   "cell_type": "markdown",
   "id": "08dbcc09",
   "metadata": {},
   "source": [
    "find missing element"
   ]
  },
  {
   "cell_type": "code",
   "execution_count": 15,
   "id": "9f233cd3",
   "metadata": {},
   "outputs": [],
   "source": [
    "def finder(arr1,arr2):\n",
    "    \n",
    "    #sorting the arrays\n",
    "    arr1.sort()\n",
    "    arr2.sort()\n",
    "    \n",
    "    if len(arr1) == len(arr2):\n",
    "        return False\n",
    "    \n",
    "    for num1, num2 in zip(arr1,arr2):\n",
    "        if num1 != num2:\n",
    "            return num1\n",
    "    \n",
    "    return arr1[-1]"
   ]
  },
  {
   "cell_type": "code",
   "execution_count": 17,
   "id": "87d6037a",
   "metadata": {},
   "outputs": [
    {
     "data": {
      "text/plain": [
       "[(1, 4), (2, 5), (3, 6)]"
      ]
     },
     "execution_count": 17,
     "metadata": {},
     "output_type": "execute_result"
    }
   ],
   "source": [
    "list(zip([1,2,3],[4,5,6]))"
   ]
  },
  {
   "cell_type": "code",
   "execution_count": 20,
   "id": "0cfa0b5c",
   "metadata": {},
   "outputs": [
    {
     "data": {
      "text/plain": [
       "5"
      ]
     },
     "execution_count": 20,
     "metadata": {},
     "output_type": "execute_result"
    }
   ],
   "source": [
    "finder([1,2,3,4,5],[4,2,1,3])"
   ]
  },
  {
   "cell_type": "code",
   "execution_count": 28,
   "id": "dc89cca4",
   "metadata": {},
   "outputs": [],
   "source": [
    "def finder2(arr1,arr2):\n",
    "    return abs(sum(arr1)-sum(arr2))"
   ]
  },
  {
   "cell_type": "code",
   "execution_count": 29,
   "id": "f4a71e48",
   "metadata": {},
   "outputs": [
    {
     "data": {
      "text/plain": [
       "5"
      ]
     },
     "execution_count": 29,
     "metadata": {},
     "output_type": "execute_result"
    }
   ],
   "source": [
    "finder2([1,2,3,4,5],[4,2,1,3])"
   ]
  },
  {
   "cell_type": "code",
   "execution_count": 31,
   "id": "90fe6916",
   "metadata": {},
   "outputs": [],
   "source": [
    "import collections"
   ]
  },
  {
   "cell_type": "code",
   "execution_count": 32,
   "id": "0d976c6f",
   "metadata": {},
   "outputs": [],
   "source": [
    "#hash-tables\n",
    "def finder3(arr1,arr2):\n",
    "    \n",
    "    d = collections.defaultdict(int)\n",
    "    \n",
    "    for num in arr2:\n",
    "        d[num] += 1\n",
    "    \n",
    "    for num in arr1:\n",
    "        if d[num] == 0:\n",
    "            return num\n",
    "        else:\n",
    "            d[num] -= 1"
   ]
  },
  {
   "cell_type": "code",
   "execution_count": 33,
   "id": "dfa4135d",
   "metadata": {},
   "outputs": [
    {
     "data": {
      "text/plain": [
       "5"
      ]
     },
     "execution_count": 33,
     "metadata": {},
     "output_type": "execute_result"
    }
   ],
   "source": [
    "finder3([1,2,3,4,5],[4,2,1,3])"
   ]
  },
  {
   "cell_type": "markdown",
   "id": "564493e1",
   "metadata": {},
   "source": [
    "largest continuous sum"
   ]
  },
  {
   "cell_type": "code",
   "execution_count": 38,
   "id": "ad4fe220",
   "metadata": {},
   "outputs": [],
   "source": [
    "def largest_sum(arr):\n",
    "    \n",
    "    if len(arr) == 0:\n",
    "        return 0\n",
    "    \n",
    "    #start the max and current sum ar the first elememnt\n",
    "    max_sum = curren_sum = arr[0]\n",
    "    \n",
    "    for num in arr[1:]:\n",
    "        \n",
    "        #set the current sum as the higher of the two\n",
    "        curren_sum = max(curren_sum + num , num)\n",
    "        \n",
    "        #set max as the higher between current_sum and the curren_max\n",
    "        max_sum = max(curren_sum,max_sum)\n",
    "    \n",
    "    return max_sum\n",
    "    "
   ]
  },
  {
   "cell_type": "code",
   "execution_count": 37,
   "id": "824985c0",
   "metadata": {},
   "outputs": [
    {
     "data": {
      "text/plain": [
       "7"
      ]
     },
     "execution_count": 37,
     "metadata": {},
     "output_type": "execute_result"
    }
   ],
   "source": [
    "largest_sum([1,2,3,-1,2])"
   ]
  },
  {
   "cell_type": "markdown",
   "id": "f7fbcbb5",
   "metadata": {},
   "source": [
    "sentence reversal"
   ]
  },
  {
   "cell_type": "code",
   "execution_count": 39,
   "id": "ed1ae251",
   "metadata": {},
   "outputs": [],
   "source": [
    "def rev_word(s):\n",
    "    \n",
    "    words = []\n",
    "    length = len(s)\n",
    "    space = [' ']\n",
    "    \n",
    "    i = 0\n",
    "    \n",
    "    while i < length:\n",
    "        \n",
    "        if s[i] not in space:\n",
    "            \n",
    "            word_start = i\n",
    "            \n",
    "            while i < length and s[i] not in space:\n",
    "                i += 1\n",
    "            \n",
    "            words.append(s[word_start:i])\n",
    "            \n",
    "        i += 1\n",
    "    \n",
    "    return \" \".join(reversed(words))"
   ]
  },
  {
   "cell_type": "code",
   "execution_count": 40,
   "id": "9c380593",
   "metadata": {},
   "outputs": [
    {
     "data": {
      "text/plain": [
       "'you are how john Hello'"
      ]
     },
     "execution_count": 40,
     "metadata": {},
     "output_type": "execute_result"
    }
   ],
   "source": [
    "rev_word('     Hello john     how are you')"
   ]
  },
  {
   "cell_type": "markdown",
   "id": "252c5bf5",
   "metadata": {},
   "source": [
    "string compression"
   ]
  },
  {
   "cell_type": "code",
   "execution_count": 44,
   "id": "caf7cbe3",
   "metadata": {},
   "outputs": [],
   "source": [
    "def string_compression(s):\n",
    "    \n",
    "    r = ''\n",
    "    l = len(s)\n",
    "    \n",
    "    if len(s) == 0:\n",
    "        return \"\"\n",
    "    \n",
    "    if len(s) == 1:\n",
    "        return s + \"1\"\n",
    "    \n",
    "    last = s[0]\n",
    "    count = 1\n",
    "    i = 1\n",
    "    \n",
    "    while i < l:\n",
    "        if s[i] == s[i-1]:\n",
    "            count += 1\n",
    "        \n",
    "        else:\n",
    "            r = r + s[i-1] + str(count)\n",
    "            count = 1 \n",
    "        i += 1\n",
    "    r = r + s[i-1] + str(count)\n",
    "    return r"
   ]
  },
  {
   "cell_type": "code",
   "execution_count": 46,
   "id": "4d37bef4",
   "metadata": {},
   "outputs": [
    {
     "data": {
      "text/plain": [
       "'A2B1a1'"
      ]
     },
     "execution_count": 46,
     "metadata": {},
     "output_type": "execute_result"
    }
   ],
   "source": [
    "string_compression('AABa')"
   ]
  },
  {
   "cell_type": "markdown",
   "id": "278ed2f3",
   "metadata": {},
   "source": [
    "unique character"
   ]
  },
  {
   "cell_type": "code",
   "execution_count": 63,
   "id": "3eacb8e2",
   "metadata": {},
   "outputs": [],
   "source": [
    "def unichar(s):\n",
    "    \n",
    "    chars = set()\n",
    "    \n",
    "    for i in s:\n",
    "        if i in chars:\n",
    "            return False\n",
    "        else:\n",
    "            chars.add(i)\n",
    "    return True"
   ]
  },
  {
   "cell_type": "code",
   "execution_count": 64,
   "id": "c51ed4c8",
   "metadata": {},
   "outputs": [
    {
     "data": {
      "text/plain": [
       "True"
      ]
     },
     "execution_count": 64,
     "metadata": {},
     "output_type": "execute_result"
    }
   ],
   "source": [
    "unichar('abcde')"
   ]
  },
  {
   "cell_type": "code",
   "execution_count": 53,
   "id": "f1792ba4",
   "metadata": {},
   "outputs": [],
   "source": [
    " def unic_char(s):\n",
    "        return len(set(s)) == len(s)"
   ]
  },
  {
   "cell_type": "code",
   "execution_count": 54,
   "id": "c30406a5",
   "metadata": {},
   "outputs": [
    {
     "data": {
      "text/plain": [
       "True"
      ]
     },
     "execution_count": 54,
     "metadata": {},
     "output_type": "execute_result"
    }
   ],
   "source": [
    "unic_char('kunj')"
   ]
  },
  {
   "cell_type": "code",
   "execution_count": null,
   "id": "5d876972",
   "metadata": {},
   "outputs": [],
   "source": []
  }
 ],
 "metadata": {
  "kernelspec": {
   "display_name": "Python 3",
   "language": "python",
   "name": "python3"
  },
  "language_info": {
   "codemirror_mode": {
    "name": "ipython",
    "version": 3
   },
   "file_extension": ".py",
   "mimetype": "text/x-python",
   "name": "python",
   "nbconvert_exporter": "python",
   "pygments_lexer": "ipython3",
   "version": "3.7.9"
  }
 },
 "nbformat": 4,
 "nbformat_minor": 5
}
