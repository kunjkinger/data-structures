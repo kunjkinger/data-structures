{
 "cells": [
  {
   "cell_type": "code",
   "execution_count": 7,
   "id": "7c5e889f",
   "metadata": {},
   "outputs": [
    {
     "name": "stdout",
     "output_type": "stream",
     "text": [
      "Length: 0; size in bytes 64\n",
      "Length: 1; size in bytes 96\n",
      "Length: 2; size in bytes 96\n",
      "Length: 3; size in bytes 96\n",
      "Length: 4; size in bytes 96\n",
      "Length: 5; size in bytes 128\n",
      "Length: 6; size in bytes 128\n",
      "Length: 7; size in bytes 128\n",
      "Length: 8; size in bytes 128\n",
      "Length: 9; size in bytes 192\n"
     ]
    }
   ],
   "source": [
    "import sys\n",
    "\n",
    "#set n\n",
    "n = 10\n",
    "\n",
    "data = []\n",
    "\n",
    "for i in range(n):\n",
    "    \n",
    "    #Number of elements\n",
    "    a = len(data)\n",
    "    \n",
    "    #Actual size on Bytes\n",
    "    b = sys.getsizeof(data)\n",
    "    \n",
    "    print(f'Length: {a}; size in bytes {b}')\n",
    "    \n",
    "    data.append(n)"
   ]
  },
  {
   "cell_type": "code",
   "execution_count": 24,
   "id": "43f5ff11",
   "metadata": {},
   "outputs": [],
   "source": [
    "class DynamicArray():\n",
    "    \n",
    "    def __init__(self):\n",
    "        self.n = 0\n",
    "        self.capacity = 1\n",
    "        self.A = self.make_array(self.capacity)\n",
    "    \n",
    "    def __len__(self):\n",
    "        return self.n\n",
    "    \n",
    "    def __getitem__(self, k):\n",
    "        \n",
    "        if not 0 <= k < self.n:\n",
    "            return IndexError('K is out of bounds')\n",
    "        \n",
    "        return self.A[k]\n",
    "    \n",
    "    def append(self,ele):\n",
    "        \n",
    "        if self.n == self.capacity:\n",
    "            self._resize(2*self.capacity) # double the size when capacity is not enough\n",
    "            \n",
    "        self.A[self.n] = ele\n",
    "        self.n += 1\n",
    "        \n",
    "    def _resize(self,new_cap):\n",
    "        B = self.make_array(new_cap)\n",
    "         \n",
    "        for k in range(self.n):\n",
    "            B[k] = self.A[k]\n",
    "            \n",
    "        self.A = B\n",
    "        self.capacity = new_cap\n",
    "    \n",
    "    def make_array(self,new_cap):\n",
    "        \n",
    "        return (new_cap * ctypes.py_object)()"
   ]
  },
  {
   "cell_type": "code",
   "execution_count": 34,
   "id": "1548f3c0",
   "metadata": {},
   "outputs": [],
   "source": [
    "arr = DynamicArray()"
   ]
  },
  {
   "cell_type": "code",
   "execution_count": 49,
   "id": "8877abba",
   "metadata": {},
   "outputs": [],
   "source": [
    "arr.append(10)"
   ]
  },
  {
   "cell_type": "code",
   "execution_count": 50,
   "id": "1e8dc485",
   "metadata": {},
   "outputs": [],
   "source": [
    "arr.append(2)"
   ]
  },
  {
   "cell_type": "code",
   "execution_count": 51,
   "id": "49969ca1",
   "metadata": {},
   "outputs": [
    {
     "data": {
      "text/plain": [
       "6"
      ]
     },
     "execution_count": 51,
     "metadata": {},
     "output_type": "execute_result"
    }
   ],
   "source": [
    "len(arr)"
   ]
  },
  {
   "cell_type": "code",
   "execution_count": 52,
   "id": "bdffa8ec",
   "metadata": {},
   "outputs": [],
   "source": [
    "b = sys.getsizeof(arr)"
   ]
  },
  {
   "cell_type": "code",
   "execution_count": 53,
   "id": "dbcf29e5",
   "metadata": {},
   "outputs": [
    {
     "name": "stdout",
     "output_type": "stream",
     "text": [
      "56\n"
     ]
    }
   ],
   "source": [
    "print(b)"
   ]
  },
  {
   "cell_type": "code",
   "execution_count": 55,
   "id": "db879693",
   "metadata": {},
   "outputs": [],
   "source": [
    "\n",
    "import ctypes\n",
    "from ctypes import sizeof\n"
   ]
  },
  {
   "cell_type": "code",
   "execution_count": 60,
   "id": "4c157434",
   "metadata": {},
   "outputs": [
    {
     "name": "stdout",
     "output_type": "stream",
     "text": [
      "Array is length: 1 Capacity: 1 Size: 8\n",
      "Array is length: 2 Capacity: 2 Size: 16\n",
      "Array is length: 3 Capacity: 4 Size: 32\n",
      "Array is length: 4 Capacity: 4 Size: 32\n",
      "Array is length: 5 Capacity: 8 Size: 64\n",
      "Array is length: 6 Capacity: 8 Size: 64\n",
      "Array is length: 7 Capacity: 8 Size: 64\n",
      "Array is length: 8 Capacity: 8 Size: 64\n",
      "Array is length: 9 Capacity: 16 Size: 128\n",
      "Array is length: 10 Capacity: 16 Size: 128\n",
      "Array is length: 11 Capacity: 16 Size: 128\n",
      "Array is length: 12 Capacity: 16 Size: 128\n",
      "Array is length: 13 Capacity: 16 Size: 128\n",
      "Array is length: 14 Capacity: 16 Size: 128\n",
      "Array is length: 15 Capacity: 16 Size: 128\n",
      "Array is length: 16 Capacity: 16 Size: 128\n",
      "Array is length: 17 Capacity: 32 Size: 256\n",
      "Array is length: 18 Capacity: 32 Size: 256\n",
      "Array is length: 19 Capacity: 32 Size: 256\n",
      "Array is length: 20 Capacity: 32 Size: 256\n"
     ]
    }
   ],
   "source": [
    "myArr = DynamicArray()\n",
    "\n",
    "for i in range(20):\n",
    "    myArr.append(i)\n",
    "    print('Array is length: {} Capacity: {} Size: {}'.format(len(myArr), myArr.capacity, ctypes.sizeof(myArr.A)))"
   ]
  },
  {
   "cell_type": "code",
   "execution_count": null,
   "id": "3f55a272",
   "metadata": {},
   "outputs": [],
   "source": []
  }
 ],
 "metadata": {
  "kernelspec": {
   "display_name": "Python 3",
   "language": "python",
   "name": "python3"
  },
  "language_info": {
   "codemirror_mode": {
    "name": "ipython",
    "version": 3
   },
   "file_extension": ".py",
   "mimetype": "text/x-python",
   "name": "python",
   "nbconvert_exporter": "python",
   "pygments_lexer": "ipython3",
   "version": "3.7.9"
  }
 },
 "nbformat": 4,
 "nbformat_minor": 5
}
